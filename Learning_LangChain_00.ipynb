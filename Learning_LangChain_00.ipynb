{
  "nbformat": 4,
  "nbformat_minor": 0,
  "metadata": {
    "colab": {
      "provenance": [],
      "authorship_tag": "ABX9TyMFUDgVwfwengRPlgy+z+iJ",
      "include_colab_link": true
    },
    "kernelspec": {
      "name": "python3",
      "display_name": "Python 3"
    },
    "language_info": {
      "name": "python"
    }
  },
  "cells": [
    {
      "cell_type": "markdown",
      "metadata": {
        "id": "view-in-github",
        "colab_type": "text"
      },
      "source": [
        "<a href=\"https://colab.research.google.com/github/shahzaibkhan/learning-langchain/blob/main/Learning_LangChain_00.ipynb\" target=\"_parent\"><img src=\"https://colab.research.google.com/assets/colab-badge.svg\" alt=\"Open In Colab\"/></a>"
      ]
    },
    {
      "cell_type": "markdown",
      "source": [
        "# **Intro to LangChain**\n",
        "\n",
        "LangChain is a popular framework that allow users to quickly build apps and pipelines around Large Language Models. It can be used to for chatbots, Generative Question-Anwering (GQA), summarization, and much more.\n",
        "\n",
        "The core idea of the library is that we can \"chain\" together different components to create more advanced use-cases around LLMs. Chains may consist of multiple components from several modules:\n",
        "\n",
        "**Prompt templates:** Prompt *templates* are, well, templates for different types of prompts. Like \"chatbot\" style templates, ELI5 question-answering, etc\n",
        "\n",
        "**LLMs:** Large language models like GPT-3, BLOOM, etc\n",
        "\n",
        "**Agents:** Agents use LLMs to decide what actions should be taken, tools like web search or calculators can be used, and all packaged into logical loop of operations.\n",
        "\n",
        "**Memory:** Short-term memory, long-term memory.\n",
        "\n",
        "To learn more about it, can visit: https://interns.school/learning-langchain\n",
        "\n",
        "# **What you may expect from this tutorial?**\n",
        "\n",
        "For this tutorial, we will be using the LangChain python library that helps you interact with LLMs like ChatGPT and connect it external data and apps. We will starting by learning how to interact with ChatGPT to generate text.\n"
      ],
      "metadata": {
        "id": "X-SoMYYLJ9eO"
      }
    },
    {
      "cell_type": "markdown",
      "source": [
        "# **Installing LangChain**\n",
        "To install LangChain, you can use the following command:"
      ],
      "metadata": {
        "id": "kz3bfnPXKQdy"
      }
    },
    {
      "cell_type": "code",
      "source": [
        "!pip install -qU langchain"
      ],
      "metadata": {
        "colab": {
          "base_uri": "https://localhost:8080/"
        },
        "id": "7CHJSb4-KfBl",
        "outputId": "83be13d5-7aba-43f0-befa-bdc121178156"
      },
      "execution_count": 4,
      "outputs": [
        {
          "output_type": "stream",
          "name": "stdout",
          "text": [
            "\u001b[2K     \u001b[90m━━━━━━━━━━━━━━━━━━━━━━━━━━━━━━━━━━━━━━━━\u001b[0m \u001b[32m1.1/1.1 MB\u001b[0m \u001b[31m46.7 MB/s\u001b[0m eta \u001b[36m0:00:00\u001b[0m\n",
            "\u001b[2K     \u001b[90m━━━━━━━━━━━━━━━━━━━━━━━━━━━━━━━━━━━━━━━━\u001b[0m \u001b[32m1.0/1.0 MB\u001b[0m \u001b[31m63.2 MB/s\u001b[0m eta \u001b[36m0:00:00\u001b[0m\n",
            "\u001b[2K     \u001b[90m━━━━━━━━━━━━━━━━━━━━━━━━━━━━━━━━━━━━━━━━\u001b[0m \u001b[32m90.0/90.0 kB\u001b[0m \u001b[31m9.8 MB/s\u001b[0m eta \u001b[36m0:00:00\u001b[0m\n",
            "\u001b[2K     \u001b[90m━━━━━━━━━━━━━━━━━━━━━━━━━━━━━━━━━━━━━━\u001b[0m \u001b[32m114.5/114.5 kB\u001b[0m \u001b[31m15.5 MB/s\u001b[0m eta \u001b[36m0:00:00\u001b[0m\n",
            "\u001b[2K     \u001b[90m━━━━━━━━━━━━━━━━━━━━━━━━━━━━━━━━━━━━━━\u001b[0m \u001b[32m268.8/268.8 kB\u001b[0m \u001b[31m29.3 MB/s\u001b[0m eta \u001b[36m0:00:00\u001b[0m\n",
            "\u001b[2K     \u001b[90m━━━━━━━━━━━━━━━━━━━━━━━━━━━━━━━━━━━━━━\u001b[0m \u001b[32m149.6/149.6 kB\u001b[0m \u001b[31m19.7 MB/s\u001b[0m eta \u001b[36m0:00:00\u001b[0m\n",
            "\u001b[2K     \u001b[90m━━━━━━━━━━━━━━━━━━━━━━━━━━━━━━━━━━━━━━━━\u001b[0m \u001b[32m49.1/49.1 kB\u001b[0m \u001b[31m6.4 MB/s\u001b[0m eta \u001b[36m0:00:00\u001b[0m\n",
            "\u001b[?25h"
          ]
        }
      ]
    },
    {
      "cell_type": "markdown",
      "source": [
        "# **Using LLMs in LangChain**\n",
        "LangChain supports several LLM providers, like Hugging Face and OpenAI.\n",
        "\n",
        "Let's start our exploration of LangChain by learning how to use a few of these different LLM integrations.\n",
        "\n",
        "\n"
      ],
      "metadata": {
        "id": "iJySZcg0LEzy"
      }
    },
    {
      "cell_type": "markdown",
      "source": [
        "## OpenAI\n",
        "\n",
        "Start by installing additional prerequisites:"
      ],
      "metadata": {
        "id": "us4YM7FdNMw_"
      }
    },
    {
      "cell_type": "code",
      "source": [
        "!pip install -qU openai"
      ],
      "metadata": {
        "id": "zQOGEN4dNPaw",
        "colab": {
          "base_uri": "https://localhost:8080/"
        },
        "outputId": "a2adf952-85aa-4fd7-c25a-0fd459d45826"
      },
      "execution_count": 5,
      "outputs": [
        {
          "output_type": "stream",
          "name": "stdout",
          "text": [
            "\u001b[?25l     \u001b[90m━━━━━━━━━━━━━━━━━━━━━━━━━━━━━━━━━━━━━━━━\u001b[0m \u001b[32m0.0/73.6 kB\u001b[0m \u001b[31m?\u001b[0m eta \u001b[36m-:--:--\u001b[0m\r\u001b[2K     \u001b[90m━━━━━━━━━━━━━━━━━━━━━━━━━━━━━━━━━━━━━━━━\u001b[0m \u001b[32m73.6/73.6 kB\u001b[0m \u001b[31m7.2 MB/s\u001b[0m eta \u001b[36m0:00:00\u001b[0m\n",
            "\u001b[?25h"
          ]
        }
      ]
    },
    {
      "cell_type": "markdown",
      "source": [
        "We can also use OpenAI's generative models. The process is similar, we need to\n",
        "give our API key which can be retrieved by signing up for an account on the\n",
        "[OpenAI website](https://openai.com/api/) (see top-right of page). We then pass the API key below:"
      ],
      "metadata": {
        "id": "ogQ26oa2NSY-"
      }
    },
    {
      "cell_type": "code",
      "source": [
        "import os\n",
        "\n",
        "# Not the best of practices to place your API key openly, but for practice best to place and then later remove.\n",
        "# You can get your OPEN AI Key from their website\n",
        "\n",
        "os.environ[\"OPENAI_API_KEY\"] = \"YOUR_API_KEY\""
      ],
      "metadata": {
        "id": "NwlfO5f5SqP1"
      },
      "execution_count": 9,
      "outputs": []
    },
    {
      "cell_type": "markdown",
      "source": [
        "## **Text Completion**\n",
        "We will ask GPT to generate an outline for an article we wish to write\n",
        "As you can see from the output, you can generate a blog article outline from less than 5 lines of codes\n"
      ],
      "metadata": {
        "id": "iePBsU78S1B9"
      }
    },
    {
      "cell_type": "code",
      "source": [
        "from langchain.llms import OpenAI\n",
        "llm = OpenAI(temperature=0.9)\n",
        "text = \"Write me an outline on Tennis\"\n",
        "print(llm(text))"
      ],
      "metadata": {
        "colab": {
          "base_uri": "https://localhost:8080/"
        },
        "id": "EMCMEpr_S6a3",
        "outputId": "b68c2edc-c2e9-4a65-eedb-fdefc2b18526"
      },
      "execution_count": 10,
      "outputs": [
        {
          "output_type": "stream",
          "name": "stdout",
          "text": [
            "\n",
            "\n",
            "\n",
            "I. Introduction \n",
            "A. Definition of Tennis\n",
            "B. History of Tennis\n",
            "\n",
            "II. Rules of Tennis\n",
            "A. Scoring \n",
            "B. Court Dimensions \n",
            "C. Equipment \n",
            "\n",
            "III. Players\n",
            "A. Professional\n",
            "B. Amateur \n",
            "\n",
            "IV. Popular Tournaments \n",
            "A. Grand Slams \n",
            "B. Davis Cup \n",
            "C. ATP and WTA Tours \n",
            "\n",
            "V. Strategies\n",
            "A. Serve\n",
            "B. Groundstrokes \n",
            "C. Volley \n",
            "\n",
            "VI. Conclusion \n",
            "A. Summary \n",
            "B. Popularity \n",
            "C. Future of the Sport\n"
          ]
        }
      ]
    },
    {
      "cell_type": "markdown",
      "source": [
        "## **Templates**\n",
        "This is the bread and butter of companies like Jasper and CopyAI. They have a bunch of pre-made templates for various use-cases like Blog Writing, Email writing, Sales letter etc.\n",
        "\n",
        "You can pick any one template and enter your input and can generate relevant content.\n",
        "\n",
        "In this example we will discover how we can generate one such template for the above example\n"
      ],
      "metadata": {
        "id": "jjuOGPVGS96s"
      }
    },
    {
      "cell_type": "code",
      "source": [
        "from langchain.prompts import PromptTemplate\n",
        "prompt = PromptTemplate(\n",
        "    input_variables=[\"topic\"],\n",
        "    template=\"Write me an outline on {topic}\",\n",
        ")"
      ],
      "metadata": {
        "id": "90DpUuP5TPSK"
      },
      "execution_count": 11,
      "outputs": []
    },
    {
      "cell_type": "markdown",
      "source": [
        "Now we are going to use a Langchain concept Chains. Chains are responsible for the entire data flow inside Langchain. As we discussed above we are passing dynamic topic input variable to OpenAI. To accommodate this we will be using a chain called LLMChain.\n",
        "\n",
        "LLMChain takes the prompt from the prompt template we created above and fills it up with the dynamic input before passing to OpenAI LLM. Let's define LLMChain below"
      ],
      "metadata": {
        "id": "0imLuxkaTSoD"
      }
    },
    {
      "cell_type": "code",
      "source": [
        "from langchain.chains import LLMChain\n",
        "chain = LLMChain(llm=llm, prompt=prompt)"
      ],
      "metadata": {
        "id": "ZGUQpcetTZUV"
      },
      "execution_count": 12,
      "outputs": []
    },
    {
      "cell_type": "markdown",
      "source": [
        "Now that we have created a prompt template and a chain we can now input any topic we want. Instead of topic \"Tennis\" we can input \"Football\" or any other topic of your choice."
      ],
      "metadata": {
        "id": "sZW_18IhTbFo"
      }
    },
    {
      "cell_type": "code",
      "source": [
        "print(chain.run(topic=\"Football\"))"
      ],
      "metadata": {
        "colab": {
          "base_uri": "https://localhost:8080/"
        },
        "id": "M5j2X3OVTj9U",
        "outputId": "a8849ff8-974a-4caf-815f-298dcad4dc5d"
      },
      "execution_count": 13,
      "outputs": [
        {
          "output_type": "stream",
          "name": "stdout",
          "text": [
            "\n",
            "\n",
            "I. Introduction \n",
            "A. Definition of football \n",
            "B. Rules of football \n",
            "C. History of football \n",
            "\n",
            "II. The Field \n",
            "A. Setting \n",
            "B. Size \n",
            "C. Layout \n",
            "\n",
            "III. Equipment \n",
            "A. Ball \n",
            "B. Helmets \n",
            "C. Cleats \n",
            "\n",
            "IV. Positions \n",
            "A. Offensive Positions \n",
            "1. Quarterback \n",
            "2. Wide Receiver \n",
            "3. Running Back \n",
            "4. Tight End \n",
            "B. Defensive Positions \n",
            "1. Linebacker \n",
            "2. Defensive Back \n",
            "3. Defensive Linemen \n",
            "\n",
            "V. Playing the Game \n",
            "A. Offense \n",
            "1. Pass Plays \n",
            "2. Run Plays \n",
            "B. Defense \n",
            "1. Zone Coverage \n",
            "2. Man Coverage \n",
            "3. Blitzing \n",
            "\n",
            "VI. Conclusion\n"
          ]
        }
      ]
    },
    {
      "cell_type": "markdown",
      "source": [
        "Now let's extend it for a multi-input prompt. Let's generate an introductory paragraph to a blog post with variables title, audience and tone of voice\n"
      ],
      "metadata": {
        "id": "pUv7O8mVToS_"
      }
    },
    {
      "cell_type": "code",
      "source": [
        "prompt = PromptTemplate(\n",
        "    input_variables=[\"title\", \"audience\", \"tone\"],\n",
        "    template=\"\"\"This program will generate an introductory paragraph to a blog post given a blog title, audience, and tone of voice\n",
        "\n",
        "    Blog Title: {title}\n",
        "    Audience: {audience}\n",
        "    Tone of Voice: {tone}\"\"\",\n",
        ")\n",
        "chain = LLMChain(llm=llm, prompt=prompt)\n",
        "print(chain.run(title=\"Tips for Becoming a Successful Developer\", audience=\"Millenials\", tone=\"Lighthearted\"))"
      ],
      "metadata": {
        "colab": {
          "base_uri": "https://localhost:8080/"
        },
        "id": "9H751zw2TxYU",
        "outputId": "6428d207-1721-4b25-bbbb-8a9cbbbc222e"
      },
      "execution_count": 14,
      "outputs": [
        {
          "output_type": "stream",
          "name": "stdout",
          "text": [
            "\n",
            "\n",
            "\n",
            "Are you a millennial looking for guidance on becoming a successful developer? If so, you’ve come to the right place! In this blog post, we’re going to discuss some great tips that will help you take your coding career to the next level. It won’t be easy, but with a bit of hard work and dedication, we know you’ll be able to achieve your goals! So, let’s get started and take a lighthearted look at the process of becoming a successful developer!\n"
          ]
        }
      ]
    },
    {
      "cell_type": "markdown",
      "source": [
        "# **Combining Chains**\n",
        "\n",
        "Often we would want to do multiple tasks using GPT. For example if we wish to generate an outline for a topic and use that outline to write a blog article we need to take the outline created from the first step and copy paste and paste as input to the second step.\n",
        "\n",
        "Instead we can combine chains to achieve this in a single step. We will do this using a different type of chain called Sequential Chain. A sequential chain takes the output from one chain and passes on to the next.\n",
        "\n"
      ],
      "metadata": {
        "id": "cVdnfAljTxL2"
      }
    },
    {
      "cell_type": "markdown",
      "source": [
        "Now we will require to install tiktoken, which is a fast BPE tokeniser for use with OpenAI's models."
      ],
      "metadata": {
        "id": "pAjtuLHWWeDc"
      }
    },
    {
      "cell_type": "code",
      "source": [
        "!pip install tiktoken"
      ],
      "metadata": {
        "colab": {
          "base_uri": "https://localhost:8080/"
        },
        "id": "73C9q7r_Wi17",
        "outputId": "ebb13fb9-3936-403e-d705-eaeeb1aa54fe"
      },
      "execution_count": 17,
      "outputs": [
        {
          "output_type": "stream",
          "name": "stdout",
          "text": [
            "Looking in indexes: https://pypi.org/simple, https://us-python.pkg.dev/colab-wheels/public/simple/\n",
            "Collecting tiktoken\n",
            "  Downloading tiktoken-0.4.0-cp310-cp310-manylinux_2_17_x86_64.manylinux2014_x86_64.whl (1.7 MB)\n",
            "\u001b[2K     \u001b[90m━━━━━━━━━━━━━━━━━━━━━━━━━━━━━━━━━━━━━━━━\u001b[0m \u001b[32m1.7/1.7 MB\u001b[0m \u001b[31m56.4 MB/s\u001b[0m eta \u001b[36m0:00:00\u001b[0m\n",
            "\u001b[?25hRequirement already satisfied: regex>=2022.1.18 in /usr/local/lib/python3.10/dist-packages (from tiktoken) (2022.10.31)\n",
            "Requirement already satisfied: requests>=2.26.0 in /usr/local/lib/python3.10/dist-packages (from tiktoken) (2.27.1)\n",
            "Requirement already satisfied: urllib3<1.27,>=1.21.1 in /usr/local/lib/python3.10/dist-packages (from requests>=2.26.0->tiktoken) (1.26.16)\n",
            "Requirement already satisfied: certifi>=2017.4.17 in /usr/local/lib/python3.10/dist-packages (from requests>=2.26.0->tiktoken) (2023.5.7)\n",
            "Requirement already satisfied: charset-normalizer~=2.0.0 in /usr/local/lib/python3.10/dist-packages (from requests>=2.26.0->tiktoken) (2.0.12)\n",
            "Requirement already satisfied: idna<4,>=2.5 in /usr/local/lib/python3.10/dist-packages (from requests>=2.26.0->tiktoken) (3.4)\n",
            "Installing collected packages: tiktoken\n",
            "Successfully installed tiktoken-0.4.0\n"
          ]
        }
      ]
    },
    {
      "cell_type": "code",
      "source": [
        "from langchain.prompts import PromptTemplate\n",
        "prompt = PromptTemplate(\n",
        "    input_variables=[\"topic\"],\n",
        "    template=\"Write me an outline on {topic}\",\n",
        ")\n",
        "llm = OpenAI(temperature=0.9, max_tokens=-1)\n",
        "chain = LLMChain(llm=llm, prompt=prompt)\n",
        "second_prompt = PromptTemplate(\n",
        "    input_variables=[\"outline\"],\n",
        "    template=\"\"\"Write a blog article in the format of the given outline\n",
        "\n",
        "    Outline:\n",
        "    {outline}\"\"\",\n",
        ")\n",
        "chain_two = LLMChain(llm=llm, prompt=second_prompt)"
      ],
      "metadata": {
        "id": "7ylVkcMnUJuz"
      },
      "execution_count": 18,
      "outputs": []
    },
    {
      "cell_type": "code",
      "source": [
        "from langchain.chains import SimpleSequentialChain\n",
        "overall_chain = SimpleSequentialChain(chains=[chain, chain_two], verbose=True)\n",
        "\n",
        "# Run the chain specifying only the input variable for the first chain.\n",
        "catchphrase = overall_chain.run(\"Tips for Becoming a Successful Developer\")\n",
        "print(catchphrase)"
      ],
      "metadata": {
        "colab": {
          "base_uri": "https://localhost:8080/"
        },
        "id": "kFuxCCokUOD5",
        "outputId": "595d43b7-3583-45f4-b0aa-d5e9b8d1fbab"
      },
      "execution_count": 19,
      "outputs": [
        {
          "output_type": "stream",
          "name": "stdout",
          "text": [
            "\n",
            "\n",
            "\u001b[1m> Entering new  chain...\u001b[0m\n",
            "\u001b[36;1m\u001b[1;3m\n",
            "\n",
            "I. Introduction \n",
            "A. Definition of a successful developer\n",
            "\n",
            "II. Education \n",
            "A. The importance of formal education \n",
            "B. Requirements for entry-level positions\n",
            "\n",
            "III. Technical Skills \n",
            "A. Learning the right languages and technologies \n",
            "B. Tips for obtaining the required skills \n",
            "\n",
            "IV. Soft Skills \n",
            "A. Communication and collaboration \n",
            "B. Problem-solving and critical thinking \n",
            "\n",
            "V. Professionalism \n",
            "A. Understanding the importance of deadlines \n",
            "B. Working in an ethical manner \n",
            "\n",
            "VI. Networking \n",
            "A. Participating in conferences and events \n",
            "B. Building relationships with professionals \n",
            "\n",
            "VII. Conclusion \n",
            "A. Summary of tips for becoming a successful developer\u001b[0m\n",
            "\u001b[33;1m\u001b[1;3m \n",
            "\n",
            "\n",
            "Introduction\n",
            "What makes a successful developer? Well, becoming a successful software developer requires a combination of hard and soft skills, an understanding of the industry, and a commitment to continued learning and growth. To become a successful developer, you must have the necessary technical skills, the ability to communicate effectively, a strong work ethic, and the willingness to build relationships. \n",
            "\n",
            "Education\n",
            "Formal education in software engineering, computer science, or a related field is an important factor in becoming a successful developer. Depending on the industry, some employers may require a bachelor's degree for entry-level positions. Additionally, you’ll need to demonstrate certain competencies and pass technical interviews to demonstrate mastery of the necessary technical skills.\n",
            "\n",
            "Technical Skills\n",
            "Many employers require knowledge of multiple programming languages and technologies in order to be considered for a role. To obtain the necessary skills, it’s important to stay up-to-date on the latest industry trends, familiarize yourself with best practices, and participate in online resources and bootcamps. It’s also important to be mindful of the demand for certain skills in the industry and tailor your learning to meet those needs. \n",
            "\n",
            "Soft Skills\n",
            "In addition to the technical knowledge, it's essential for developers to possess important soft skills like communication, collaboration, problem-solving, and critical thinking. Understanding how to interact with colleagues, customers, and other stakeholders is key to developing successful relationships. In addition, the ability to think critically and solve challenging problems is essential. \n",
            "\n",
            "Professionalism \n",
            "Developers are also expected to demonstrate a strong work ethic and an understanding of the importance of deadlines. Additionally, it’s important to develop an understanding of the ethical and legal implications of software development. This includes understanding and complying with best practices and regulations in the industry. \n",
            "\n",
            "Networking\n",
            "Finally, it’s important for developers to become involved in the community by participating in conferences and other events. It’s also important to build relationships with professionals in the industry, as those relationships can help open up opportunities for growth and advancement. \n",
            "\n",
            "Conclusion \n",
            "To become a successful developer, you must have the necessary technical skills, the ability to communicate effectively, a strong work ethic and the willingness to build relationships. Additionally, it's important to stay up-to-date on industry trends, participate in online resources and bootcamps, and demonstrate an understanding of the ethical and legal implications of software development. Networking within the community is also essential. By following these tips, you’ll be well on your way to becoming a successful developer.\u001b[0m\n",
            "\n",
            "\u001b[1m> Finished chain.\u001b[0m\n",
            " \n",
            "\n",
            "\n",
            "Introduction\n",
            "What makes a successful developer? Well, becoming a successful software developer requires a combination of hard and soft skills, an understanding of the industry, and a commitment to continued learning and growth. To become a successful developer, you must have the necessary technical skills, the ability to communicate effectively, a strong work ethic, and the willingness to build relationships. \n",
            "\n",
            "Education\n",
            "Formal education in software engineering, computer science, or a related field is an important factor in becoming a successful developer. Depending on the industry, some employers may require a bachelor's degree for entry-level positions. Additionally, you’ll need to demonstrate certain competencies and pass technical interviews to demonstrate mastery of the necessary technical skills.\n",
            "\n",
            "Technical Skills\n",
            "Many employers require knowledge of multiple programming languages and technologies in order to be considered for a role. To obtain the necessary skills, it’s important to stay up-to-date on the latest industry trends, familiarize yourself with best practices, and participate in online resources and bootcamps. It’s also important to be mindful of the demand for certain skills in the industry and tailor your learning to meet those needs. \n",
            "\n",
            "Soft Skills\n",
            "In addition to the technical knowledge, it's essential for developers to possess important soft skills like communication, collaboration, problem-solving, and critical thinking. Understanding how to interact with colleagues, customers, and other stakeholders is key to developing successful relationships. In addition, the ability to think critically and solve challenging problems is essential. \n",
            "\n",
            "Professionalism \n",
            "Developers are also expected to demonstrate a strong work ethic and an understanding of the importance of deadlines. Additionally, it’s important to develop an understanding of the ethical and legal implications of software development. This includes understanding and complying with best practices and regulations in the industry. \n",
            "\n",
            "Networking\n",
            "Finally, it’s important for developers to become involved in the community by participating in conferences and other events. It’s also important to build relationships with professionals in the industry, as those relationships can help open up opportunities for growth and advancement. \n",
            "\n",
            "Conclusion \n",
            "To become a successful developer, you must have the necessary technical skills, the ability to communicate effectively, a strong work ethic and the willingness to build relationships. Additionally, it's important to stay up-to-date on industry trends, participate in online resources and bootcamps, and demonstrate an understanding of the ethical and legal implications of software development. Networking within the community is also essential. By following these tips, you’ll be well on your way to becoming a successful developer.\n"
          ]
        }
      ]
    }
  ]
}